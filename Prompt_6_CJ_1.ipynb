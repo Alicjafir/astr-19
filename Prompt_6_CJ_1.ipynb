{
 "cells": [
  {
   "cell_type": "code",
   "execution_count": 1,
   "id": "b9ab9e56-ca9f-4e79-88b9-b1e0c02cddcb",
   "metadata": {},
   "outputs": [],
   "source": [
    "import numpy as np\n",
    "from astropy.table import Table"
   ]
  },
  {
   "cell_type": "markdown",
   "id": "d0f2277a-df44-4c04-ba0f-7969529c68ef",
   "metadata": {},
   "source": [
    "**function that defines and return sin(x)**"
   ]
  },
  {
   "cell_type": "code",
   "execution_count": 2,
   "id": "d52f6273-bafa-4811-8f59-6c0d58cf01d3",
   "metadata": {},
   "outputs": [],
   "source": [
    "def sin(x):\n",
    "    return np.sin(x)"
   ]
  },
  {
   "cell_type": "markdown",
   "id": "5980a59a-cc9d-451b-bc62-310289aa59d7",
   "metadata": {},
   "source": [
    "**function that defines and return cos(x)**"
   ]
  },
  {
   "cell_type": "code",
   "execution_count": 3,
   "id": "517953f0-3636-4d63-8fe1-6dac4aa05592",
   "metadata": {},
   "outputs": [],
   "source": [
    "def cos(x):\n",
    "    return np.cos(x)"
   ]
  },
  {
   "cell_type": "markdown",
   "id": "c6240ade-00a9-4dea-bdc4-a4aaeb0a0426",
   "metadata": {},
   "source": [
    "**python cell that tabulates sin(x) and cos(x) vs. x, where x is tabulated between 0 and 2 with a thousand entries**"
   ]
  },
  {
   "cell_type": "code",
   "execution_count": 4,
   "id": "7899d74e-1af7-40bb-890e-4bed112cb9ea",
   "metadata": {},
   "outputs": [],
   "source": [
    "x = np.linspace(0, 2*np.pi, 1000)"
   ]
  },
  {
   "cell_type": "code",
   "execution_count": 5,
   "id": "6849e6aa-09d6-4e71-b61a-c7ef27abcacd",
   "metadata": {},
   "outputs": [
    {
     "name": "stdout",
     "output_type": "stream",
     "text": [
      "         x                    sin x                cos x       \n",
      "-------------------- ----------------------- ------------------\n",
      "                 0.0                     0.0                1.0\n",
      "0.006289474781961547    0.006289433316067751 0.9999802213186835\n",
      "0.012578949563923095    0.012578617838741058 0.9999208860571256\n",
      "0.018868424345884642     0.01886730478446709 0.9998219965624733\n",
      " 0.02515789912784619    0.025155245389375847  0.999683556746534\n",
      " 0.03144737390980774      0.0314421909191206 0.9995055720856217\n",
      "0.037736848691769284     0.03772789267871718 0.9992880496203402\n",
      " 0.04402632347373083     0.04401210202238166 0.9990309979553046\n",
      " 0.05031579825569238     0.05029457036336619 0.9987344272588006\n",
      "0.056605273037653926     0.05657504918379235 0.9983983492623831\n",
      "                 ...                     ...                ...\n",
      "    6.22029055935997    -0.06285329004448273 0.9980227772604112\n",
      "   6.226580034141932    -0.05657504918379272  0.998398349262383\n",
      "   6.232869508923893   -0.050294570363367035 0.9987344272588006\n",
      "   6.239158983705855    -0.04401210202238211 0.9990309979553045\n",
      "   6.245448458487816     -0.0377278926787181 0.9992880496203401\n",
      "   6.251737933269778   -0.031442190919121114 0.9995055720856217\n",
      "   6.258027408051739   -0.025155245389376843  0.999683556746534\n",
      "   6.264316882833701   -0.018867304784467676 0.9998219965624733\n",
      "   6.270606357615662   -0.012578617838742121 0.9999208860571257\n",
      "   6.276895832397624   -0.006289433316068405 0.9999802213186832\n",
      "   6.283185307179586 -2.4492935982947064e-16                1.0\n",
      "Length = 1000 rows\n"
     ]
    }
   ],
   "source": [
    "mytable = Table()\n",
    "mytable['x'] = x\n",
    "mytable['sin x'] = sin(x)\n",
    "mytable['cos x'] = cos(x)\n",
    "\n",
    "print(mytable)"
   ]
  },
  {
   "cell_type": "markdown",
   "id": "cd3e54df-b264-4461-b4bb-d40738b0b458",
   "metadata": {},
   "source": [
    "**python cell that will use a for loop to print out the first 10 values of x, sin(x), and cos(x) in columns**"
   ]
  },
  {
   "cell_type": "code",
   "execution_count": 6,
   "id": "7685b1a4-4075-4dc4-b1bc-80b232666a86",
   "metadata": {},
   "outputs": [
    {
     "name": "stdout",
     "output_type": "stream",
     "text": [
      "x sin x cos x\n",
      "0.0 0.0 1.0\n",
      "0.006289474781961547 0.006289433316067751 0.9999802213186835\n",
      "0.012578949563923095 0.012578617838741058 0.9999208860571256\n",
      "0.018868424345884642 0.01886730478446709 0.9998219965624733\n",
      "0.02515789912784619 0.025155245389375847 0.999683556746534\n",
      "0.03144737390980774 0.0314421909191206 0.9995055720856217\n",
      "0.037736848691769284 0.03772789267871718 0.9992880496203402\n",
      "0.04402632347373083 0.04401210202238166 0.9990309979553046\n",
      "0.05031579825569238 0.05029457036336619 0.9987344272588006\n",
      "0.056605273037653926 0.05657504918379235 0.9983983492623831\n"
     ]
    }
   ],
   "source": [
    "print('x', 'sin x', 'cos x')\n",
    "\n",
    "for i in range(10):\n",
    "    print(mytable['x'][i], mytable['sin x'][i], mytable['cos x'][i])"
   ]
  },
  {
   "cell_type": "code",
   "execution_count": null,
   "id": "0e39b084-3d62-4c19-9285-af5b8bbdbab9",
   "metadata": {},
   "outputs": [],
   "source": []
  }
 ],
 "metadata": {
  "kernelspec": {
   "display_name": "ASTR 19",
   "language": "python",
   "name": "astr19"
  },
  "language_info": {
   "codemirror_mode": {
    "name": "ipython",
    "version": 3
   },
   "file_extension": ".py",
   "mimetype": "text/x-python",
   "name": "python",
   "nbconvert_exporter": "python",
   "pygments_lexer": "ipython3",
   "version": "3.10.12"
  }
 },
 "nbformat": 4,
 "nbformat_minor": 5
}
