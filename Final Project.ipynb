{
 "cells": [
  {
   "cell_type": "code",
   "execution_count": null,
   "id": "11d86d27-36d2-44ee-b63d-00e575974cbc",
   "metadata": {},
   "outputs": [],
   "source": [
    "import numpy as np\n",
    "import sep\n",
    "#plt.savefig(\"MyFigure.png\", format='png')pdf after each image\n",
    "#replicate the code with the new \"image\"\n",
    "#line 15 \"print length of obejcts\" \n",
    "#histogram flux - histogram \n",
    "#matplotlib.pyplot.hist()\n",
    "#numpy function for all of them\n",
    "\n",
    "#the biggest diffrence bewteen the flux point and the mean value\n",
    "#new list thediffrence = flux list - mean\n",
    "#numpy.argmax\n",
    "#plot it by - line 14 len(object) put in only one [i] for the outlier \n",
    "\n",
    "#???\n",
    "#tuesday class point 8 "
   ]
  },
  {
   "cell_type": "code",
   "execution_count": null,
   "id": "dd235d68-4463-42b5-8b8a-1c6ae4c13381",
   "metadata": {},
   "outputs": [],
   "source": [
    "import astropy\n",
    "import matplotlib.pyplot as plt\n",
    "from matplotlib import rcParams\n",
    "\n",
    "%matplotlib inline\n",
    "\n",
    "rcParams['figure.figsize'] = [10., 8.]"
   ]
  },
  {
   "cell_type": "code",
   "execution_count": null,
   "id": "c45355d9-2d85-49fb-970d-c5a920967c1e",
   "metadata": {},
   "outputs": [],
   "source": [
    "# read image into standard 2-d numpy array\n",
    "data = astropy.io.fits.get_data(\"image.fits\")"
   ]
  },
  {
   "cell_type": "code",
   "execution_count": null,
   "id": "d3f55549-84d8-4d4e-891c-c594eaf4edf5",
   "metadata": {},
   "outputs": [],
   "source": [
    "# show the image\n",
    "m, s = np.mean(data), np.std(data)\n",
    "plt.imshow(data, interpolation='nearest', cmap='gray', vmin=m-s, vmax=m+s, origin='lower')\n",
    "plt.colorbar();\n",
    "plt.savefig(\"MyFigure.png\", format='png')"
   ]
  },
  {
   "cell_type": "markdown",
   "id": "80f4d806-81a2-452d-a978-7078d3b6afa7",
   "metadata": {},
   "source": [
    "**Background subtraction**"
   ]
  },
  {
   "cell_type": "code",
   "execution_count": null,
   "id": "f1083330-17cf-4f8b-bd69-ac5078419521",
   "metadata": {},
   "outputs": [],
   "source": [
    "# measure a spatially varying background on the image\n",
    "bkg = sep.Background(data)"
   ]
  },
  {
   "cell_type": "code",
   "execution_count": null,
   "id": "179ecbd2-b79d-4895-9957-4b2d789f0461",
   "metadata": {},
   "outputs": [],
   "source": [
    "bkg = sep.Background(data, mask=mask, bw=64, bh=64, fw=3, fh=3)"
   ]
  },
  {
   "cell_type": "code",
   "execution_count": null,
   "id": "b1631ab3-5dc2-4d5f-9064-4dff3fc6a43b",
   "metadata": {},
   "outputs": [],
   "source": [
    "# get a \"global\" mean and noise of the image background:\n",
    "print(bkg.globalback)\n",
    "print(bkg.globalrms)"
   ]
  },
  {
   "cell_type": "code",
   "execution_count": null,
   "id": "b33d3981-80f6-40e4-b75a-261d422659c4",
   "metadata": {},
   "outputs": [],
   "source": [
    "# evaluate background as 2-d array, same size as original image\n",
    "bkg_image = bkg.back()\n",
    "# bkg_image = np.array(bkg) # equivalent to above"
   ]
  },
  {
   "cell_type": "code",
   "execution_count": null,
   "id": "3242ed73-96e4-431f-9a8f-0631e3a5bd70",
   "metadata": {},
   "outputs": [],
   "source": [
    "# show the background\n",
    "plt.imshow(bkg_image, interpolation='nearest', cmap='gray', origin='lower')\n",
    "plt.colorbar();\n",
    "plt.savefig(\"MyFigure.png\", format='png')"
   ]
  },
  {
   "cell_type": "code",
   "execution_count": null,
   "id": "a5322fac-49b9-45af-8121-1b13ea6b5e2a",
   "metadata": {},
   "outputs": [],
   "source": [
    "# evaluate the background noise as 2-d array, same size as original image\n",
    "bkg_rms = bkg.rms()"
   ]
  },
  {
   "cell_type": "code",
   "execution_count": null,
   "id": "f59b53b3-bcf6-4268-99d4-0aa0e0f57c16",
   "metadata": {},
   "outputs": [],
   "source": [
    "# show the background noise\n",
    "plt.imshow(bkg_rms, interpolation='nearest', cmap='gray', origin='lower')\n",
    "plt.colorbar();\n",
    "plt.savefig(\"MyFigure.png\", format='png')"
   ]
  },
  {
   "cell_type": "code",
   "execution_count": null,
   "id": "73027721-0320-4fe0-9aa9-082a34f66041",
   "metadata": {},
   "outputs": [],
   "source": [
    "# subtract the background\n",
    "data_sub = data - bkg"
   ]
  },
  {
   "cell_type": "markdown",
   "id": "d79f804a-bb6a-41a9-93f5-9021cf9771b4",
   "metadata": {},
   "source": [
    "**Object detection**"
   ]
  },
  {
   "cell_type": "code",
   "execution_count": null,
   "id": "f95c9af0-94ce-42e7-a6b9-72d53ffbd830",
   "metadata": {},
   "outputs": [],
   "source": [
    "objects = sep.extract(data_sub, 1.5, err=bkg.globalrms)"
   ]
  },
  {
   "cell_type": "code",
   "execution_count": null,
   "id": "fcb2806c-f1fb-46e0-a495-9f31bf7996e8",
   "metadata": {},
   "outputs": [],
   "source": [
    "# how many objects were detected\n",
    "len(objects)"
   ]
  },
  {
   "cell_type": "code",
   "execution_count": null,
   "id": "c57ea3a8-ec5a-4177-9aab-9980de641bd8",
   "metadata": {},
   "outputs": [],
   "source": [
    "from matplotlib.patches import Ellipse\n",
    "\n",
    "# plot background-subtracted image\n",
    "fig, ax = plt.subplots()\n",
    "m, s = np.mean(data_sub), np.std(data_sub)\n",
    "im = ax.imshow(data_sub, interpolation='nearest', cmap='gray',\n",
    "               vmin=m-s, vmax=m+s, origin='lower')\n",
    "\n",
    "# plot an ellipse for each object\n",
    "for i in range(len(objects)):\n",
    "    e = Ellipse(xy=(objects['x'][i], objects['y'][i]),\n",
    "                width=6*objects['a'][i],\n",
    "                height=6*objects['b'][i],\n",
    "                angle=objects['theta'][i] * 180. / np.pi)\n",
    "    e.set_facecolor('none')\n",
    "    e.set_edgecolor('red')\n",
    "    ax.add_artist(e)\n",
    "plt.savefig(\"MyFigure.png\", format='png')"
   ]
  },
  {
   "cell_type": "code",
   "execution_count": null,
   "id": "5161ad15-cd1d-4c4b-9a34-f9aca7085afb",
   "metadata": {},
   "outputs": [],
   "source": [
    "# available fields\n",
    "objects.dtype.names"
   ]
  },
  {
   "cell_type": "markdown",
   "id": "29252e3e-af5a-45de-93ab-9ab1963bec9f",
   "metadata": {},
   "source": [
    "**Aperture photometry**"
   ]
  },
  {
   "cell_type": "code",
   "execution_count": null,
   "id": "90b77390-6275-42f7-afe4-303b876594c2",
   "metadata": {},
   "outputs": [],
   "source": [
    "flux, fluxerr, flag = sep.sum_circle(data_sub, objects['x'], objects['y'],\n",
    "                                     3.0, err=bkg.globalrms, gain=1.0)"
   ]
  },
  {
   "cell_type": "code",
   "execution_count": null,
   "id": "8c6ba75e-1ff1-4fc7-a29b-0a8e21635b71",
   "metadata": {},
   "outputs": [],
   "source": [
    "# show the first 10 objects results:\n",
    "for i in range(10):\n",
    "    print(\"object {:d}: flux = {:f} +/- {:f}\".format(i, flux[i], fluxerr[i]))"
   ]
  },
  {
   "cell_type": "code",
   "execution_count": null,
   "id": "e1c94269-cd79-40be-9492-5885ed9cc3d2",
   "metadata": {},
   "outputs": [],
   "source": []
  }
 ],
 "metadata": {
  "kernelspec": {
   "display_name": "ASTR 19",
   "language": "python",
   "name": "astr19"
  },
  "language_info": {
   "codemirror_mode": {
    "name": "ipython",
    "version": 3
   },
   "file_extension": ".py",
   "mimetype": "text/x-python",
   "name": "python",
   "nbconvert_exporter": "python",
   "pygments_lexer": "ipython3",
   "version": "3.10.12"
  }
 },
 "nbformat": 4,
 "nbformat_minor": 5
}
