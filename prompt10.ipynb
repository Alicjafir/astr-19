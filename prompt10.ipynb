{
 "cells": [
  {
   "cell_type": "code",
   "execution_count": null,
   "id": "342a3764-53d0-44a7-b58f-53d00f7d7219",
   "metadata": {},
   "outputs": [],
   "source": [
    "import numpy as np\n",
    "import matplotlib.pyplot as plt"
   ]
  },
  {
   "cell_type": "code",
   "execution_count": null,
   "id": "9d28406a-478c-4511-a591-722428617b0d",
   "metadata": {},
   "outputs": [],
   "source": [
    "rng = np.random.default_rng()"
   ]
  },
  {
   "cell_type": "code",
   "execution_count": null,
   "id": "b999196d-c1c4-4292-8670-b394c0d26211",
   "metadata": {},
   "outputs": [],
   "source": [
    "triangular_data = rng.triangular(left=0, mode=0.5, right=1, size=1000)"
   ]
  },
  {
   "cell_type": "code",
   "execution_count": null,
   "id": "0e4df167-c5aa-46dd-b3d7-e269abb8c93f",
   "metadata": {},
   "outputs": [],
   "source": [
    "plt.hist(triangular_data, bins=100, color='blue', edgecolor = 'black')\n",
    "plt.xlabel(\"Random Variates\")\n",
    "plt.ylabel(\"Frequency\")\n",
    "plt.title(\"Histogram of triangularly Distibiuted Random Numbers\")\n",
    "\n",
    "plt.savefig(\"triangular_histogram.pdf\")\n",
    "plt.show()"
   ]
  }
 ],
 "metadata": {
  "kernelspec": {
   "display_name": "ASTR 19",
   "language": "python",
   "name": "astr19"
  },
  "language_info": {
   "codemirror_mode": {
    "name": "ipython",
    "version": 3
   },
   "file_extension": ".py",
   "mimetype": "text/x-python",
   "name": "python",
   "nbconvert_exporter": "python",
   "pygments_lexer": "ipython3",
   "version": "3.10.12"
  }
 },
 "nbformat": 4,
 "nbformat_minor": 5
}
