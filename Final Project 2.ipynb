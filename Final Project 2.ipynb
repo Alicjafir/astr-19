{
 "cells": [
  {
   "cell_type": "code",
   "execution_count": null,
   "id": "b0ab3c0e-6642-47e8-b69b-9e2e5226a60b",
   "metadata": {},
   "outputs": [],
   "source": [
    "import numpy as np\n",
    "import sep"
   ]
  },
  {
   "cell_type": "code",
   "execution_count": null,
   "id": "0c4deedb-8937-454a-9b54-a14328e64f9a",
   "metadata": {},
   "outputs": [],
   "source": [
    "import astropy\n",
    "import matplotlib.pyplot as plt\n",
    "from matplotlib import rcParams\n",
    "\n",
    "%matplotlib inline\n",
    "\n",
    "rcParams['figure.figsize'] = [10., 8.]"
   ]
  },
  {
   "cell_type": "code",
   "execution_count": null,
   "id": "337ead7a-7f8b-444c-afe9-8fb17350b4bc",
   "metadata": {},
   "outputs": [],
   "source": [
    "# read image into standard 2-d numpy array\n",
    "data = astropy.io.fits.get_data(\"hlsp_hudf12_hst_wfc3ir_udfmain_f105w_v1.0_drz.fits\")"
   ]
  },
  {
   "cell_type": "code",
   "execution_count": null,
   "id": "12dc0ab7-46b6-41b7-b026-4edb7deae3fc",
   "metadata": {},
   "outputs": [],
   "source": [
    "# show the image\n",
    "m, s = np.mean(data), np.std(data)\n",
    "plt.imshow(data, interpolation='nearest', cmap='gray', vmin=m-s, vmax=m+s, origin='lower')\n",
    "plt.colorbar();\n",
    "plt.savefig(\"MyFigure.png\", format='png')"
   ]
  },
  {
   "cell_type": "markdown",
   "id": "78028c38-f634-472f-a408-4a8dd3be0521",
   "metadata": {},
   "source": [
    "**Background subtraction**"
   ]
  },
  {
   "cell_type": "code",
   "execution_count": null,
   "id": "1be504c7-aee6-4b4d-8499-1d8efcaef93a",
   "metadata": {},
   "outputs": [],
   "source": [
    "# measure a spatially varying background on the image\n",
    "bkg = sep.Background(data)"
   ]
  },
  {
   "cell_type": "code",
   "execution_count": null,
   "id": "14d930bb-05be-4263-bbae-c4a19817ec96",
   "metadata": {},
   "outputs": [],
   "source": [
    "bkg = sep.Background(data, mask=mask, bw=64, bh=64, fw=3, fh=3)"
   ]
  },
  {
   "cell_type": "code",
   "execution_count": null,
   "id": "1b511562-a5e5-4193-b517-9c1ea1cd9be0",
   "metadata": {},
   "outputs": [],
   "source": [
    "# get a \"global\" mean and noise of the image background:\n",
    "print(bkg.globalback)\n",
    "print(bkg.globalrms)"
   ]
  },
  {
   "cell_type": "code",
   "execution_count": null,
   "id": "0e1690e8-c3b0-443b-b035-cdc92af613ea",
   "metadata": {},
   "outputs": [],
   "source": [
    "# evaluate background as 2-d array, same size as original image\n",
    "bkg_image = bkg.back()\n",
    "# bkg_image = np.array(bkg) # equivalent to above"
   ]
  },
  {
   "cell_type": "code",
   "execution_count": null,
   "id": "b9d20dce-1141-464b-881d-5ee879fd89e6",
   "metadata": {},
   "outputs": [],
   "source": [
    "# show the background\n",
    "plt.imshow(bkg_image, interpolation='nearest', cmap='gray', origin='lower')\n",
    "plt.colorbar();\n",
    "plt.savefig(\"MyFigure.png\", format='png')"
   ]
  },
  {
   "cell_type": "code",
   "execution_count": null,
   "id": "b0413ea6-2942-4463-a731-8301434ea998",
   "metadata": {},
   "outputs": [],
   "source": [
    "# evaluate the background noise as 2-d array, same size as original image\n",
    "bkg_rms = bkg.rms()"
   ]
  },
  {
   "cell_type": "code",
   "execution_count": null,
   "id": "6087363d-ecc2-454e-b391-5a6098f91db7",
   "metadata": {},
   "outputs": [],
   "source": [
    "# show the background noise\n",
    "plt.imshow(bkg_rms, interpolation='nearest', cmap='gray', origin='lower')\n",
    "plt.colorbar();\n",
    "plt.savefig(\"MyFigure.png\", format='png')"
   ]
  },
  {
   "cell_type": "code",
   "execution_count": null,
   "id": "7eac94de-2b86-47f2-ac8c-6c568b991edb",
   "metadata": {},
   "outputs": [],
   "source": [
    "# subtract the background\n",
    "data_sub = data - bkg"
   ]
  },
  {
   "cell_type": "markdown",
   "id": "451484eb-eb87-404c-abc7-2102969c50c4",
   "metadata": {},
   "source": [
    "**Object detection**"
   ]
  },
  {
   "cell_type": "code",
   "execution_count": null,
   "id": "e13aee05-8346-4471-8599-5059bc81ea0d",
   "metadata": {},
   "outputs": [],
   "source": [
    "objects = sep.extract(data_sub, 1.5, err=bkg.globalrms)"
   ]
  },
  {
   "cell_type": "code",
   "execution_count": null,
   "id": "278b80e6-19fd-4ba0-a2d0-6e66638fddad",
   "metadata": {},
   "outputs": [],
   "source": [
    "# how many objects were detected\n",
    "len(objects)"
   ]
  },
  {
   "cell_type": "code",
   "execution_count": null,
   "id": "697e55a9-acb2-47d9-807d-40b865a497db",
   "metadata": {},
   "outputs": [],
   "source": [
    "from matplotlib.patches import Ellipse\n",
    "\n",
    "# plot background-subtracted image\n",
    "fig, ax = plt.subplots()\n",
    "m, s = np.mean(data_sub), np.std(data_sub)\n",
    "im = ax.imshow(data_sub, interpolation='nearest', cmap='gray',\n",
    "               vmin=m-s, vmax=m+s, origin='lower')\n",
    "\n",
    "# plot an ellipse for each object\n",
    "for i in range(len(objects)):\n",
    "    e = Ellipse(xy=(objects['x'][i], objects['y'][i]),\n",
    "                width=6*objects['a'][i],\n",
    "                height=6*objects['b'][i],\n",
    "                angle=objects['theta'][i] * 180. / np.pi)\n",
    "    e.set_facecolor('none')\n",
    "    e.set_edgecolor('red')\n",
    "    ax.add_artist(e)\n",
    "plt.savefig(\"MyFigure.png\", format='png')"
   ]
  },
  {
   "cell_type": "code",
   "execution_count": null,
   "id": "f52e5e3c-b31f-4288-be1e-25bbb22c3455",
   "metadata": {},
   "outputs": [],
   "source": [
    "# available fields\n",
    "objects.dtype.names"
   ]
  },
  {
   "cell_type": "code",
   "execution_count": null,
   "id": "36a39710-7dfc-4bb3-9406-436efe186bbd",
   "metadata": {},
   "outputs": [],
   "source": [
    "len(object) \n",
    "print(len(object))\n"
   ]
  },
  {
   "cell_type": "markdown",
   "id": "f34eb484-b989-4e18-98d3-e8105d95ab87",
   "metadata": {},
   "source": [
    "**Aperture photometry**"
   ]
  },
  {
   "cell_type": "code",
   "execution_count": null,
   "id": "22cb3056-ba40-4dfc-a148-0d738b77ce94",
   "metadata": {},
   "outputs": [],
   "source": [
    "flux, fluxerr, flag = sep.sum_circle(data_sub, objects['x'], objects['y'],\n",
    "                                     3.0, err=bkg.globalrms, gain=1.0)"
   ]
  },
  {
   "cell_type": "code",
   "execution_count": null,
   "id": "ef6d1f91-58c0-4ebe-96aa-113ca7026490",
   "metadata": {},
   "outputs": [],
   "source": [
    "matplotlib.pyplot.hist(flux)\n",
    "print(matplotlib.pyplot.hist(flux))\n",
    "\n",
    "mean=numpy.mean(flux)\n",
    "print(numpy.mean(flux))\n",
    "\n",
    "median=numpy.median(flux)\n",
    "print(numpy.median(flux))\n",
    "\n",
    "std=numpy.std(flux)\n",
    "print(numpy.std(flux)"
   ]
  },
  {
   "cell_type": "code",
   "execution_count": null,
   "id": "40bf728d-2db4-4b21-9ab2-3853982bc8bb",
   "metadata": {},
   "outputs": [],
   "source": [
    "thedifference = flux - numpy.mean(flux)\n",
    "\n",
    "outlier_idx = numpy.argmax(thedifference)\n",
    "\n"
   ]
  },
  {
   "cell_type": "code",
   "execution_count": null,
   "id": "d3097bf6-ea32-4cb3-9497-f565b8132eb6",
   "metadata": {},
   "outputs": [],
   "source": [
    "from matplotlib.patches import Ellipse\n",
    "\n",
    "# plot background-subtracted image\n",
    "fig, ax = plt.subplots()\n",
    "m, s = np.mean(data_sub), np.std(data_sub)\n",
    "im = ax.imshow(data_sub, interpolation='nearest', cmap='gray',\n",
    "               vmin=m-s, vmax=m+s, origin='lower')\n",
    "\n",
    "# plot an ellipse for each object\n",
    "\n",
    "e = Ellipse(xy=(objects['x'][outlier_idx], objects['y'][outlier_idx]),width=6*objects['a'][outlier_idx],height=6*objects['b'][outlier_idx],angle=objects['theta'][outlier_idx] * 180. / np.pi)\n",
    "e.set_facecolor('none')\n",
    "e.set_edgecolor('red')\n",
    "ax.add_artist(e)\n",
    "plt.savefig(\"MyFigure.png\", format='png')"
   ]
  },
  {
   "cell_type": "code",
   "execution_count": null,
   "id": "da35041f-bfc2-4b57-aabc-c558113befa3",
   "metadata": {},
   "outputs": [],
   "source": [
    "# show the first 10 objects results:\n",
    "for i in range(10):\n",
    "    print(\"object {:d}: flux = {:f} +/- {:f}\".format(i, flux[i], fluxerr[i]))"
   ]
  },
  {
   "cell_type": "markdown",
   "id": "243f52d6-ec84-4846-82dc-ea1a52580df0",
   "metadata": {},
   "source": [
    "**Point 8 3-color face image**"
   ]
  },
  {
   "cell_type": "code",
   "execution_count": null,
   "id": "bc5bae38-2e13-413c-9b4b-c2efb5e02d38",
   "metadata": {},
   "outputs": [],
   "source": [
    "import matplotlib.pyplot as plt"
   ]
  },
  {
   "cell_type": "code",
   "execution_count": null,
   "id": "ba9ea903-3e6f-4445-86b5-1d249a5e6b5c",
   "metadata": {},
   "outputs": [],
   "source": [
    "f105w = fits.getdata('f105w.fits')\n",
    "f125w = fits.getdata('f125w.fits')\n",
    "f160w = fits.getdata('f160w.fits')"
   ]
  },
  {
   "cell_type": "code",
   "execution_count": null,
   "id": "2a36afc4-1617-4442-a3be-1eedf2d94090",
   "metadata": {},
   "outputs": [],
   "source": [
    "median_f105w = np.nanmedian(f105w[f105w<1])\n",
    "median_f125w = np.nanmedian(f125w[f125w<1])\n",
    "median_f160w = np.nanmedian(f160w[f160w<1])\n",
    "print(f'Median of F105W sky {median_f105w}')\n",
    "print(f'Median of F125W sky {median_f125w}')\n",
    "print(f'Median of F160W sky {median_f160w}')"
   ]
  },
  {
   "cell_type": "code",
   "execution_count": null,
   "id": "330c2c28-b4f6-4807-9c68-ae853da8c0ce",
   "metadata": {},
   "outputs": [],
   "source": [
    "f105w = f105w.byteswap().newbyteorder()\n",
    "f125w = f125w.byteswap().newbyteorder()\n",
    "f160w = f160w.byteswap().newbyteorder()\n",
    "\n",
    "bkg_f105w = sep.Background(f105w)\n",
    "bkg_f125w = sep.Background(f125w)\n",
    "bkg_f160w = sep.Background(f160w)\n",
    "\n",
    "f105w -= bkg_f105w\n",
    "f125w -= bkg_f125w\n",
    "f160w -= bkg_f160w"
   ]
  },
  {
   "cell_type": "code",
   "execution_count": null,
   "id": "6d04beee-054d-4d11-89e2-2a7634ea6181",
   "metadata": {},
   "outputs": [],
   "source": [
    "median_f105w = np.nanmedian(f105w[f105w<1])\n",
    "median_f125w = np.nanmedian(f125w[f125w<1])\n",
    "median_f160w = np.nanmedian(f160w[f160w<1])\n",
    "\n",
    "print(f'Median of F105W sky {median_f105w}')\n",
    "print(f'Median of F125W sky {median_f125w}')\n",
    "print(f'Median of F160W sky {median_f160w}')"
   ]
  },
  {
   "cell_type": "code",
   "execution_count": null,
   "id": "65e9cd8e-9efe-42e7-bc13-1d77775772b0",
   "metadata": {},
   "outputs": [],
   "source": [
    "def rescale_data(data,dmin=0.01,dmax=10.0):\n",
    "\n",
    "    datac = np.clip(data,dmin,dmax)\n",
    "    return (np.log10(dtac)-np.log10(dmin)/(np.log10(dmax)-np.log10(dmin)))"
   ]
  },
  {
   "cell_type": "code",
   "execution_count": null,
   "id": "3e78a92d-ce79-433a-aa87-3941ae7eea69",
   "metadata": {},
   "outputs": [],
   "source": [
    "p_f105w = rescale_data(f105w)\n",
    "p_f125w = rescale_data(f125w)\n",
    "p_f160w = rescale_data(f160w)"
   ]
  },
  {
   "cell_type": "code",
   "execution_count": null,
   "id": "935a4bcb-200c-4e9f-8b35-cdaec8278229",
   "metadata": {},
   "outputs": [],
   "source": [
    "rgb = np.stack([p_f160w,0.7*p_f125w,p_105w],axis=-1)\n",
    "print(rgb.shape)"
   ]
  },
  {
   "cell_type": "code",
   "execution_count": null,
   "id": "168fbdd9-4c13-4a91-a494-5865e1b100f6",
   "metadata": {},
   "outputs": [],
   "source": [
    "xsize = rgb.shape[1]\n",
    "ysize = rgb.shape[0]\n",
    "\n",
    "f,ax = plt.subplots(1,1,figsize=(xsize/1000.,ysize/1000.0))\n",
    "ax.axis('off')\n",
    "ax.imshow(rgb,orgin='lower')"
   ]
  },
  {
   "cell_type": "code",
   "execution_count": null,
   "id": "453ecddc-96ec-47c4-81d8-49b30a6265af",
   "metadata": {},
   "outputs": [],
   "source": [
    "plt.imsave('smacs-0723.png',rgb,origin='lower')"
   ]
  },
  {
   "cell_type": "code",
   "execution_count": null,
   "id": "26b56d8b-997d-4e94-89e5-6b60fc640081",
   "metadata": {},
   "outputs": [],
   "source": [
    "objects = sep.extract(f160w, 5, err=bkgf160w.globalrms)"
   ]
  },
  {
   "cell_type": "code",
   "execution_count": null,
   "id": "fc7ffb99-78f9-4e91-b224-eb56547c1036",
   "metadata": {},
   "outputs": [],
   "source": []
  }
 ],
 "metadata": {
  "kernelspec": {
   "display_name": "",
   "name": ""
  },
  "language_info": {
   "name": ""
  }
 },
 "nbformat": 4,
 "nbformat_minor": 5
}
